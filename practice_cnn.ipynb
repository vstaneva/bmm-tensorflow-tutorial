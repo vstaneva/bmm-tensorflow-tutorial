{
 "cells": [
  {
   "cell_type": "markdown",
   "metadata": {},
   "source": [
    "# Practice: Implement CNN for Dog-Cat Classification\n",
    "\n",
    "In previous tutorial, we give the skeleton of basic CNN for MNIST. In this practice, we only give you a dataset containing dogs and cats images. You'll create a CNN on your own to tell if it is a cat or dog image."
   ]
  },
  {
   "cell_type": "code",
   "execution_count": 1,
   "metadata": {
    "collapsed": true
   },
   "outputs": [],
   "source": [
    "import numpy as np\n",
    "import tensorflow as tf\n",
    "\n",
    "%matplotlib inline\n",
    "import matplotlib.pyplot as plt"
   ]
  },
  {
   "cell_type": "markdown",
   "metadata": {},
   "source": [
    "### Dog-Cat dataset\n",
    "\n",
    "This dataset contains images of two classes: cat and dog.\n",
    "- Each image is 128x128px with RGB 3 channels.\n",
    "- Each image is associated with one label.\n",
    "\n",
    "We provide a loader to load all images into training and testing sets."
   ]
  },
  {
   "cell_type": "code",
   "execution_count": 7,
   "metadata": {
    "collapsed": false
   },
   "outputs": [
    {
     "name": "stdout",
     "output_type": "stream",
     "text": [
      "Going to read training images\n",
      "Now going to read dogs files (Index: 0)\n",
      "Now going to read cats files (Index: 1)\n",
      "Complete reading input data.\n",
      "Number of images in training:\t800\n",
      "Number of images in testing:\t200\n"
     ]
    }
   ],
   "source": [
    "from practice_data import dataset\n",
    "\n",
    "classes = ['dogs','cats']\n",
    "num_classes = len(classes)\n",
    "\n",
    "# 20% of the data will automatically be used for testing\n",
    "test_size = 0.2\n",
    "img_size = 128\n",
    "num_channels = 3\n",
    "train_path='practice_data/training_data'\n",
    "\n",
    "data = dataset.read_train_sets(train_path, img_size, classes, validation_size=test_size)\n",
    "print(\"Complete reading input data.\")\n",
    "print(\"Number of images in training:\\t{}\".format(len(data.train.labels)))\n",
    "print(\"Number of images in testing:\\t{}\".format(len(data.valid.labels)))"
   ]
  },
  {
   "cell_type": "markdown",
   "metadata": {},
   "source": [
    "### Implement Your Own Network!\n",
    "\n",
    "Now, you can start your own implementation.\n",
    "To get the data for next batch, you can call next_batch() to get images and labels.\n",
    "- Training set: images_batch, labels_batch = data.train.next_batch(batch_size)\n",
    "- Testing set: images_batch, labels_batch = data.valid.next_batch(batch_size)\n"
   ]
  },
  {
   "cell_type": "code",
   "execution_count": null,
   "metadata": {
    "collapsed": true
   },
   "outputs": [],
   "source": []
  }
 ],
 "metadata": {
  "kernelspec": {
   "display_name": "tensorflow",
   "language": "python",
   "name": "tensorflow"
  },
  "language_info": {
   "codemirror_mode": {
    "name": "ipython",
    "version": 2
   },
   "file_extension": ".py",
   "mimetype": "text/x-python",
   "name": "python",
   "nbconvert_exporter": "python",
   "pygments_lexer": "ipython2",
   "version": "2.7.10"
  }
 },
 "nbformat": 4,
 "nbformat_minor": 1
}
