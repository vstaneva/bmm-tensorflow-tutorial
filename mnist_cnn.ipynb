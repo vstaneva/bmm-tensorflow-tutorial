{
 "cells": [
  {
   "cell_type": "markdown",
   "metadata": {},
   "source": [
    "# CNN for Digit Classification using MNIST dataset\n",
    "\n",
    "This tutoral will show you:\n",
    "- How to load a dataset in TensorFlow and batch iterate through the data\n",
    "- Define the computation graph of a convolutional neural net and train it\n",
    "- Save checkpoints during training\n",
    "- Visualize filters and feature maps in TensorBoard"
   ]
  },
  {
   "cell_type": "code",
   "execution_count": 1,
   "metadata": {
    "collapsed": true
   },
   "outputs": [],
   "source": [
    "import numpy as np\n",
    "import tensorflow as tf\n",
    "\n",
    "%matplotlib inline\n",
    "import matplotlib.pyplot as plt"
   ]
  },
  {
   "cell_type": "markdown",
   "metadata": {},
   "source": [
    "### MNIST Dataset\n",
    "\n",
    "MNIST is a simple computer vision dataset. \n",
    "- It consists of images of handwritten digits from 0-9, and their image labels;\n",
    "- Each image is 28px * 28px;\n",
    "- The input image is flattened into a vector of 28x28 = 784 numbers, so MNIST images is a tensor (an n-dimensional array) with a shape of [55000, 784];\n",
    "- MNIST labels is a [55000, 1] array of numbers.\n",
    "\n",
    "<img src=\"images/mnist-train-xs.png\" style=\"width: 500px;\"/>\n",
    "\n",
    "Here, we provide you a ``DataLoader`` class to load dataset into memory. \n",
    "Two methods are provided to access training and testing data.\n",
    "- next_batch: return next batch of training data\n",
    "- load_test: return all testing data"
   ]
  },
  {
   "cell_type": "code",
   "execution_count": 2,
   "metadata": {
    "collapsed": false
   },
   "outputs": [
    {
     "name": "stdout",
     "output_type": "stream",
     "text": [
      "Extracting MNIST_data/train-images-idx3-ubyte.gz\n",
      "Extracting MNIST_data/train-labels-idx1-ubyte.gz\n",
      "Extracting MNIST_data/t10k-images-idx3-ubyte.gz\n",
      "Extracting MNIST_data/t10k-labels-idx1-ubyte.gz\n",
      "Label: 7\n"
     ]
    },
    {
     "data": {
      "image/png": "[encoded data removed]",
      "text/plain": [
       "<matplotlib.figure.Figure at 0x107aa0810>"
      ]
     },
     "metadata": {},
     "output_type": "display_data"
    }
   ],
   "source": [
    "data_dir = 'MNIST_data/'\n",
    "h = 28  # MNIST image size: 28*28px\n",
    "w = 28\n",
    "c = 1   # MNIST data has only one channel, they are grey scale images\n",
    "\n",
    "from data_loader import DataLoader\n",
    "\n",
    "# Construct dataloader to load MNIST dataset\n",
    "loader = DataLoader(data_dir, w, h, c)\n",
    "\n",
    "# Plot one image and label\n",
    "plt.imshow(loader.dataset.train.images[0].reshape(h, w)).set_cmap('Greys')\n",
    "print(\"Label: %d\" % loader.dataset.train.labels[0])"
   ]
  },
  {
   "cell_type": "markdown",
   "metadata": {},
   "source": [
    "### Set up Compuation Graph\n",
    "\n",
    "In TensorFlow, a computation graph defines the architecture of neural network. All needed functions to define layers and losses are in ``tf.nn`` module: https://www.tensorflow.org/api_docs/python/tf/nn\n",
    "\n",
    "The following cell gives you a graph of basic CNN. The network repeats \"Convoluation + Non-linearity + Pooling\" twice. We provide the weights and biases for each layer but didn't fill in the details of those layers. Here are the APIs you need:\n",
    "- [tf.nn.conv2d](https://www.tensorflow.org/api_docs/python/tf/nn/conv2d): use stride 1, filter size is defined in ``weights``\n",
    "- [tf.nn.relu](https://www.tensorflow.org/api_docs/python/tf/nn/relu)\n",
    "- [tf.nn.max_pool](https://www.tensorflow.org/api_docs/python/tf/nn/max_pool): use 2x2 filter and stride 2\n",
    "\n",
    "To better understand what the model learns, we created utility functions in ``visualizer.py`` to visualize convolution kernels and layer outputs. When defining computation graph, we need to add the interesting variables to image summary so that we can see them in TensorBoard."
   ]
  },
  {
   "cell_type": "code",
   "execution_count": 3,
   "metadata": {
    "collapsed": false
   },
   "outputs": [],
   "source": [
    "def init_weights(shape):\n",
    "    \"\"\" Random initialize weight variable \"\"\"\n",
    "    return tf.Variable(tf.random_normal(shape, stddev=0.01))\n",
    "\n",
    "def init_bias(shape):\n",
    "    \"\"\" Initialize bias variable to zero \"\"\"\n",
    "    return tf.Variable(tf.zeros(shape))\n",
    "\n",
    "def cnn(x, keep_dropout):\n",
    "    \"\"\" Define the CNN computation graph \"\"\"\n",
    "\n",
    "    weights = {\n",
    "        'wc1': init_weights([5, 5, 1, 32]),   # 5x5x1 conv, 32 outputs\n",
    "        'wc2': init_weights([5, 5, 32, 64]),  # 5x5x32 conv, 64 outputs\n",
    "        'wf3': init_weights([7*7*64, 1024]),  # Fully Connected 7*7*64 inputs, 1024 outputs\n",
    "        'wo': init_weights([1024, 10]),       # Fully Connected 1024 inputs, 10 outputs \n",
    "    }\n",
    "    biases = {\n",
    "        'bc1': init_bias(32),\n",
    "        'bc2': init_bias(64),\n",
    "        'bf3': init_bias(1024),\n",
    "        'bo': init_bias(10),\n",
    "    }\n",
    "    \n",
    "    from visualizer import visualize_filter, visualize_feature\n",
    "\n",
    "    # Convolution + ReLU + Pooling\n",
    "    conv1 = tf.nn.conv2d(x, weights['wc1'], strides=[1, 1, 1, 1], padding='SAME')\n",
    "    relu1 = tf.nn.relu(tf.nn.bias_add(conv1, biases['bc1']))\n",
    "    pool1 = tf.nn.max_pool(relu1, ksize=[1, 2, 2, 1], strides=[1, 2, 2, 1], padding='SAME')\n",
    "    tf.summary.image('kernel1', visualize_filter(weights['wc1']), max_outputs=1)\n",
    "    tf.summary.image('relu1',visualize_feature(relu1), max_outputs=1)\n",
    "    tf.summary.image('pool1',visualize_feature(pool1), max_outputs=1)\n",
    "\n",
    "    # Convolution + ReLU + Pooling\n",
    "    conv2 = tf.nn.conv2d(pool1, weights['wc2'], strides=[1, 1, 1, 1], padding='SAME')\n",
    "    relu2 = tf.nn.relu(tf.nn.bias_add(conv2, biases['bc2']))\n",
    "    pool2 = tf.nn.max_pool(relu2, ksize=[1, 2, 2, 1], strides=[1, 2, 2, 1], padding='SAME')\n",
    "    tf.summary.image('kernel2', visualize_filter(weights['wc2']), max_outputs=1)\n",
    "    tf.summary.image('relu2',visualize_feature(relu2), max_outputs=1)\n",
    "    tf.summary.image('pool2',visualize_feature(pool2), max_outputs=1)\n",
    "\n",
    "    # Fully Connected + ReLU + Dropout\n",
    "    fc3 = tf.reshape(pool2, [-1, weights['wf3'].get_shape().as_list()[0]])\n",
    "    fc3 = tf.add(tf.matmul(fc3, weights['wf3']), biases['bf3'])\n",
    "    fc3 = tf.nn.relu(fc3)\n",
    "    fc3 = tf.nn.dropout(fc3, keep_dropout)\n",
    "\n",
    "    # Output Fully Connected\n",
    "    out = tf.add(tf.matmul(fc3, weights['wo']), biases['bo'])\n",
    "    \n",
    "    return out"
   ]
  },
  {
   "cell_type": "markdown",
   "metadata": {},
   "source": [
    "### Prepare for Training"
   ]
  },
  {
   "cell_type": "code",
   "execution_count": 4,
   "metadata": {
    "collapsed": true
   },
   "outputs": [],
   "source": [
    "# Parameters for training\n",
    "learning_rate = 0.001\n",
    "training_iters = 500\n",
    "batch_size = 100\n",
    "step_display = 10\n",
    "step_save = 500\n",
    "path_save = 'models/mnist_cnn'\n",
    "\n",
    "# Network Parameters\n",
    "dropout = 0.5  # Dropout, probability to keep units"
   ]
  },
  {
   "cell_type": "markdown",
   "metadata": {},
   "source": [
    "Before we can train the model, we also need to decide which loss and optimizer we want to use for back propagation. Here are some optimizer you can try:\n",
    "- [tf.train.GradientDescentOptimizer](https://www.tensorflow.org/api_docs/python/tf/train/GradientDescentOptimizer)\n",
    "- [tf.train.AdadeltaOptimizer](https://www.tensorflow.org/api_docs/python/tf/train/AdadeltaOptimizer)\n",
    "- [tf.train.AdagradOptimizer](https://www.tensorflow.org/api_docs/python/tf/train/AdagradOptimizer)\n",
    "- [tf.train.AdamOptimizer](https://www.tensorflow.org/api_docs/python/tf/train/AdamOptimizer)"
   ]
  },
  {
   "cell_type": "code",
   "execution_count": 5,
   "metadata": {
    "collapsed": false
   },
   "outputs": [],
   "source": [
    "# Define input of computation graph\n",
    "x = tf.placeholder(tf.float32, [None, h, w, c])\n",
    "y = tf.placeholder(tf.int64, None)\n",
    "keep_dropout = tf.placeholder(tf.float32)\n",
    "\n",
    "# Construct model\n",
    "logits = cnn(x, keep_dropout)\n",
    "\n",
    "# Define loss and optimizer\n",
    "loss = tf.reduce_mean(tf.nn.sparse_softmax_cross_entropy_with_logits(logits=logits, labels=y))\n",
    "train_optimizer = tf.train.AdamOptimizer.minimize(loss)\n",
    "\n",
    "# Set up model evaluation metrics\n",
    "correct_pred = tf.equal(tf.argmax(logits, 1), y)\n",
    "accuracy = tf.reduce_mean(tf.cast(correct_pred, tf.float32))"
   ]
  },
  {
   "cell_type": "code",
   "execution_count": 6,
   "metadata": {
    "collapsed": true
   },
   "outputs": [],
   "source": [
    "# Initialize session\n",
    "init = tf.global_variables_initializer()\n",
    "sess = tf.Session()\n",
    "sess.run(init)\n",
    "\n",
    "# Define saver to write out model checkpoint\n",
    "saver = tf.train.Saver()\n",
    "\n",
    "# Configure summary writer to write out logs\n",
    "LOG_DIR = \"logs\"\n",
    "summary_writer = tf.summary.FileWriter(LOG_DIR, sess.graph)\n",
    "merged = tf.summary.merge_all()"
   ]
  },
  {
   "cell_type": "markdown",
   "metadata": {},
   "source": [
    "### Training\n",
    "\n",
    "Now, we're ready to run training on the data batches!"
   ]
  },
  {
   "cell_type": "code",
   "execution_count": 7,
   "metadata": {
    "collapsed": false
   },
   "outputs": [
    {
     "name": "stdout",
     "output_type": "stream",
     "text": [
      "Iter 10, Minibatch Loss = 1.862742, Training Accuracy = 0.5200\n",
      "Iter 20, Minibatch Loss = 0.778925, Training Accuracy = 0.6600\n",
      "Iter 30, Minibatch Loss = 0.782985, Training Accuracy = 0.6900\n",
      "Iter 40, Minibatch Loss = 0.504283, Training Accuracy = 0.8500\n",
      "Iter 50, Minibatch Loss = 0.294770, Training Accuracy = 0.8700\n",
      "Iter 60, Minibatch Loss = 0.381130, Training Accuracy = 0.9000\n",
      "Iter 70, Minibatch Loss = 0.259445, Training Accuracy = 0.9500\n",
      "Iter 80, Minibatch Loss = 0.366366, Training Accuracy = 0.8800\n",
      "Iter 90, Minibatch Loss = 0.402122, Training Accuracy = 0.9000\n",
      "Iter 100, Minibatch Loss = 0.203817, Training Accuracy = 0.9100\n",
      "Iter 110, Minibatch Loss = 0.290456, Training Accuracy = 0.9400\n",
      "Iter 120, Minibatch Loss = 0.153579, Training Accuracy = 0.9400\n",
      "Iter 130, Minibatch Loss = 0.186846, Training Accuracy = 0.9200\n",
      "Iter 140, Minibatch Loss = 0.057914, Training Accuracy = 0.9800\n",
      "Iter 150, Minibatch Loss = 0.084986, Training Accuracy = 0.9500\n",
      "Iter 160, Minibatch Loss = 0.180626, Training Accuracy = 0.9300\n",
      "Iter 170, Minibatch Loss = 0.142753, Training Accuracy = 0.9400\n",
      "Iter 180, Minibatch Loss = 0.032903, Training Accuracy = 1.0000\n",
      "Iter 190, Minibatch Loss = 0.138572, Training Accuracy = 0.9800\n",
      "Iter 200, Minibatch Loss = 0.103487, Training Accuracy = 0.9600\n",
      "Iter 210, Minibatch Loss = 0.084723, Training Accuracy = 0.9900\n",
      "Iter 220, Minibatch Loss = 0.029783, Training Accuracy = 1.0000\n",
      "Iter 230, Minibatch Loss = 0.084513, Training Accuracy = 0.9700\n",
      "Iter 240, Minibatch Loss = 0.069870, Training Accuracy = 0.9800\n",
      "Iter 250, Minibatch Loss = 0.109576, Training Accuracy = 0.9600\n",
      "Iter 260, Minibatch Loss = 0.091283, Training Accuracy = 0.9600\n",
      "Iter 270, Minibatch Loss = 0.095408, Training Accuracy = 0.9800\n",
      "Iter 280, Minibatch Loss = 0.038347, Training Accuracy = 0.9800\n",
      "Iter 290, Minibatch Loss = 0.031746, Training Accuracy = 1.0000\n",
      "Iter 300, Minibatch Loss = 0.091043, Training Accuracy = 0.9800\n",
      "Iter 310, Minibatch Loss = 0.094307, Training Accuracy = 0.9600\n",
      "Iter 320, Minibatch Loss = 0.033550, Training Accuracy = 0.9900\n",
      "Iter 330, Minibatch Loss = 0.057622, Training Accuracy = 0.9800\n",
      "Iter 340, Minibatch Loss = 0.100889, Training Accuracy = 0.9700\n",
      "Iter 350, Minibatch Loss = 0.055099, Training Accuracy = 0.9900\n",
      "Iter 360, Minibatch Loss = 0.063318, Training Accuracy = 0.9800\n",
      "Iter 370, Minibatch Loss = 0.093611, Training Accuracy = 0.9600\n",
      "Iter 380, Minibatch Loss = 0.123841, Training Accuracy = 0.9700\n",
      "Iter 390, Minibatch Loss = 0.091691, Training Accuracy = 0.9800\n",
      "Iter 400, Minibatch Loss = 0.076224, Training Accuracy = 0.9600\n",
      "Iter 410, Minibatch Loss = 0.059393, Training Accuracy = 0.9900\n",
      "Iter 420, Minibatch Loss = 0.035958, Training Accuracy = 0.9900\n",
      "Iter 430, Minibatch Loss = 0.100213, Training Accuracy = 0.9500\n",
      "Iter 440, Minibatch Loss = 0.161598, Training Accuracy = 0.9500\n",
      "Iter 450, Minibatch Loss = 0.104842, Training Accuracy = 0.9600\n",
      "Iter 460, Minibatch Loss = 0.032137, Training Accuracy = 1.0000\n",
      "Iter 470, Minibatch Loss = 0.134061, Training Accuracy = 0.9400\n",
      "Iter 480, Minibatch Loss = 0.207038, Training Accuracy = 0.9500\n",
      "Iter 490, Minibatch Loss = 0.046918, Training Accuracy = 0.9900\n",
      "Model saved at Iter 500 !\n",
      "Finished training!\n"
     ]
    }
   ],
   "source": [
    "step = 1\n",
    "while step < training_iters:\n",
    "    # Load a batch of data\n",
    "    images_batch, labels_batch = loader.next_batch(batch_size)\n",
    "        \n",
    "    # Run optimization (i.e. back propagation)\n",
    "    summary, _ = sess.run([merged, train_optimizer],\n",
    "                          feed_dict={x: images_batch, y: labels_batch, keep_dropout: dropout})\n",
    "    \n",
    "    # Display loss and accuracy every ``step_display`` iterations\n",
    "    if step % step_display == 0:\n",
    "        # Calculate batch loss and accuracy while training\n",
    "        l, acc = sess.run([loss, accuracy],\n",
    "                          feed_dict={x: images_batch, y: labels_batch, keep_dropout: 1.}) \n",
    "        print(\"Iter %d, Minibatch Loss = %.6f, Training Accuracy = %.4f\" % (step, l, acc))\n",
    "        \n",
    "    step += 1\n",
    "        \n",
    "    # Save model\n",
    "    if step % step_save == 0:\n",
    "        saver.save(sess, path_save, global_step=step)\n",
    "        print(\"Model saved at Iter %d !\" % (step))\n",
    "\n",
    "    # Add summary to writer at each iteration\n",
    "    summary_writer.add_summary(summary, step)\n",
    "        \n",
    "print(\"Finished training!\")\n",
    "summary_writer.close()"
   ]
  },
  {
   "cell_type": "markdown",
   "metadata": {},
   "source": [
    "### Testing\n",
    "\n",
    "After training, we can run the model on a test set to understand its performance."
   ]
  },
  {
   "cell_type": "code",
   "execution_count": 8,
   "metadata": {
    "collapsed": false
   },
   "outputs": [
    {
     "name": "stdout",
     "output_type": "stream",
     "text": [
      "Testing Accuracy: 0.979900\n"
     ]
    }
   ],
   "source": [
    "# Calculate accuracy for test images\n",
    "images_test, labels_test = loader.load_test()\n",
    "test_accuracy = sess.run(accuracy, feed_dict={x: images_test,\n",
    "                                              y: labels_test,\n",
    "                                              keep_dropout: 1.})\n",
    "print(\"Testing Accuracy: %f\" % test_accuracy)"
   ]
  },
  {
   "cell_type": "markdown",
   "metadata": {
    "collapsed": true
   },
   "source": [
    "### Check Visualization in TensorBoard\n",
    "\n",
    "Since we write out summary to logs directory, we can use TensorFlow to see the stats we add to the summary.\n",
    "\n",
    "To launch TensorBoard, you should type this in your terminal or command prompt:\n",
    "\n",
    "    tensorboard --logdir=logs/\n",
    "    \n",
    "It will reads the files in logs/ directory.\n",
    "\n",
    "Then, in your favorite browser, go to ``localhost:6006`` to and click on \"Images\" tab to see visualization of filters."
   ]
  },
  {
   "cell_type": "markdown",
   "metadata": {},
   "source": [
    "### Done. Congrats!\n",
    "\n",
    "You have finished this tutorial. But, this is just a start, feel free to try different things on this simple CNN. For example,\n",
    "- add more layers\n",
    "- try different hyperparameters\n",
    "- add more stats to summary\n",
    "- etc."
   ]
  },
  {
   "cell_type": "code",
   "execution_count": null,
   "metadata": {
    "collapsed": true
   },
   "outputs": [],
   "source": []
  }
 ],
 "metadata": {
  "anaconda-cloud": {},
  "kernelspec": {
   "display_name": "tensorflow",
   "language": "python",
   "name": "tensorflow"
  },
  "language_info": {
   "codemirror_mode": {
    "name": "ipython",
    "version": 2
   },
   "file_extension": ".py",
   "mimetype": "text/x-python",
   "name": "python",
   "nbconvert_exporter": "python",
   "pygments_lexer": "ipython2",
   "version": "2.7.10"
  }
 },
 "nbformat": 4,
 "nbformat_minor": 1
}
